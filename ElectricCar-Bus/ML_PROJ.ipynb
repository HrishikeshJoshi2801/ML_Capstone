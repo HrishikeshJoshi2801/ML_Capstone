{
 "cells": [
  {
   "cell_type": "code",
   "execution_count": 1,
   "metadata": {
    "id": "pWV9CkS3edXj"
   },
   "outputs": [],
   "source": [
    "import numpy as np # linear algebra\n",
    "import pandas as pd # data processing, CSV file I/O (e.g. pd.read_csv)\n",
    "import os\n",
    "from tensorflow import keras \n",
    "from tensorflow.keras.preprocessing import image\n",
    "from IPython.display import Image\n",
    "from tensorflow.keras.preprocessing.image import ImageDataGenerator\n",
    "import cv2"
   ]
  },
  {
   "cell_type": "code",
   "execution_count": 2,
   "metadata": {
    "id": "1BdF4fDmetr6"
   },
   "outputs": [],
   "source": [
    "datagen = ImageDataGenerator(rescale = 1./255,horizontal_flip = True)\n",
    "batch_size = 50"
   ]
  },
  {
   "cell_type": "code",
   "execution_count": 3,
   "metadata": {
    "colab": {
     "base_uri": "https://localhost:8080/"
    },
    "id": "qjnqrOR0excV",
    "outputId": "2e7d1168-7519-4f5e-e821-d9403a141e7c"
   },
   "outputs": [
    {
     "name": "stdout",
     "output_type": "stream",
     "text": [
      "Found 2972 images belonging to 2 classes.\n"
     ]
    }
   ],
   "source": [
    "path = 'data/Training_set'\n",
    "train_generator = datagen.flow_from_directory(path,batch_size = batch_size,target_size =(150,150),class_mode = 'binary')\n"
   ]
  },
  {
   "cell_type": "code",
   "execution_count": 4,
   "metadata": {
    "id": "jpY0D37je8r4"
   },
   "outputs": [],
   "source": [
    "from tensorflow.keras import layers\n",
    "from tensorflow.keras import models"
   ]
  },
  {
   "cell_type": "code",
   "execution_count": 5,
   "metadata": {
    "id": "7Lui_kVofBcF"
   },
   "outputs": [],
   "source": [
    "model = keras.models.Sequential()\n",
    "model.add(keras.layers.Conv2D(32,kernel_size = (2,2),activation = 'relu',padding = \"same\",strides = (2,2),input_shape = (150,150,3)))\n",
    "model.add(keras.layers.Conv2D(64,kernel_size = (4,4),activation = 'relu',padding = \"same\",strides = (2,2)))\n",
    "model.add(keras.layers.Conv2D(64,kernel_size = (2,2),activation = 'relu',strides = (2,2)))\n",
    "model.add(keras.layers.MaxPooling2D((2,2)))\n",
    "model.add(keras.layers.Conv2D(128,kernel_size = (4,4),activation = 'relu',padding = \"same\",strides = (2,2)))\n",
    "model.add(keras.layers.Conv2D(128,kernel_size = (2,2),activation = 'relu',strides = (2,2)))\n",
    "model.add(keras.layers.MaxPooling2D((2,2)))\n",
    "model.add(keras.layers.Flatten())\n",
    "model.add(keras.layers.Dense(256,activation = 'relu'))\n",
    "model.add(keras.layers.Dense(1,activation = \"sigmoid\"))"
   ]
  },
  {
   "cell_type": "code",
   "execution_count": 6,
   "metadata": {
    "id": "vGpYFZUCfDZj"
   },
   "outputs": [],
   "source": [
    "model.compile(loss = \"binary_crossentropy\",optimizer = 'Adam',metrics = ['accuracy'])"
   ]
  },
  {
   "cell_type": "code",
   "execution_count": 7,
   "metadata": {
    "colab": {
     "base_uri": "https://localhost:8080/"
    },
    "id": "jxf99WY9fJ3B",
    "outputId": "799abe7a-a775-4253-9cf1-5b83b5bb3c54"
   },
   "outputs": [
    {
     "name": "stdout",
     "output_type": "stream",
     "text": [
      "Epoch 1/20\n",
      "50/50 [==============================] - 11s 219ms/step - loss: 0.6149 - accuracy: 0.6452\n",
      "Epoch 2/20\n",
      "50/50 [==============================] - 12s 243ms/step - loss: 0.4482 - accuracy: 0.7965\n",
      "Epoch 3/20\n",
      "50/50 [==============================] - 13s 261ms/step - loss: 0.3774 - accuracy: 0.8414\n",
      "Epoch 4/20\n",
      "50/50 [==============================] - 13s 262ms/step - loss: 0.3154 - accuracy: 0.8693\n",
      "Epoch 5/20\n",
      "50/50 [==============================] - 13s 267ms/step - loss: 0.2432 - accuracy: 0.9110\n",
      "Epoch 6/20\n",
      "50/50 [==============================] - 13s 260ms/step - loss: 0.1960 - accuracy: 0.9252\n",
      "Epoch 7/20\n",
      "50/50 [==============================] - 13s 258ms/step - loss: 0.1841 - accuracy: 0.9328\n",
      "Epoch 8/20\n",
      "50/50 [==============================] - 13s 259ms/step - loss: 0.1386 - accuracy: 0.9470\n",
      "Epoch 9/20\n",
      "50/50 [==============================] - 13s 260ms/step - loss: 0.1150 - accuracy: 0.9587\n",
      "Epoch 10/20\n",
      "50/50 [==============================] - 13s 261ms/step - loss: 0.0716 - accuracy: 0.9720\n",
      "Epoch 11/20\n",
      "50/50 [==============================] - 13s 262ms/step - loss: 0.0438 - accuracy: 0.9880\n",
      "Epoch 12/20\n",
      "50/50 [==============================] - 13s 264ms/step - loss: 0.0517 - accuracy: 0.9796\n",
      "Epoch 13/20\n",
      "50/50 [==============================] - 13s 259ms/step - loss: 0.0724 - accuracy: 0.9745\n",
      "Epoch 14/20\n",
      "50/50 [==============================] - 13s 259ms/step - loss: 0.0296 - accuracy: 0.9907\n",
      "Epoch 15/20\n",
      "50/50 [==============================] - 13s 263ms/step - loss: 0.0412 - accuracy: 0.9838\n",
      "Epoch 16/20\n",
      "50/50 [==============================] - 13s 261ms/step - loss: 0.0188 - accuracy: 0.9939\n",
      "Epoch 17/20\n",
      "50/50 [==============================] - 13s 264ms/step - loss: 0.0048 - accuracy: 0.9992\n",
      "Epoch 18/20\n",
      "50/50 [==============================] - 13s 264ms/step - loss: 0.0036 - accuracy: 0.9996\n",
      "Epoch 19/20\n",
      "50/50 [==============================] - 13s 259ms/step - loss: 0.0017 - accuracy: 0.9996\n",
      "Epoch 20/20\n",
      "50/50 [==============================] - 13s 259ms/step - loss: 5.5443e-04 - accuracy: 1.0000\n"
     ]
    },
    {
     "data": {
      "text/plain": [
       "<tensorflow.python.keras.callbacks.History at 0x1a1d9723f48>"
      ]
     },
     "execution_count": 7,
     "metadata": {},
     "output_type": "execute_result"
    }
   ],
   "source": [
    "model.fit(train_generator,steps_per_epoch = 50, epochs = 20)"
   ]
  },
  {
   "cell_type": "code",
   "execution_count": 8,
   "metadata": {
    "id": "qiPhKQIefM19"
   },
   "outputs": [
    {
     "name": "stdout",
     "output_type": "stream",
     "text": [
      "Found 382 images belonging to 2 classes.\n"
     ]
    }
   ],
   "source": [
    "path = \"data/test\"\n",
    "test_generator = datagen.flow_from_directory(path,target_size = (150,150),class_mode = 'binary',batch_size = batch_size)"
   ]
  },
  {
   "cell_type": "code",
   "execution_count": 9,
   "metadata": {},
   "outputs": [
    {
     "name": "stdout",
     "output_type": "stream",
     "text": [
      "8/8 [==============================] - 1s 88ms/step - loss: 0.6212 - accuracy: 0.9031\n"
     ]
    },
    {
     "data": {
      "text/plain": [
       "[0.6211763024330139, 0.9031413793563843]"
      ]
     },
     "execution_count": 9,
     "metadata": {},
     "output_type": "execute_result"
    }
   ],
   "source": [
    "model.evaluate(test_generator,verbose = 1,steps = len(test_generator))\n"
   ]
  },
  {
   "cell_type": "code",
   "execution_count": 10,
   "metadata": {},
   "outputs": [
    {
     "data": {
      "text/plain": [
       "['loss', 'accuracy']"
      ]
     },
     "execution_count": 10,
     "metadata": {},
     "output_type": "execute_result"
    }
   ],
   "source": [
    "model.metrics_names"
   ]
  },
  {
   "cell_type": "code",
   "execution_count": null,
   "metadata": {},
   "outputs": [],
   "source": []
  }
 ],
 "metadata": {
  "colab": {
   "name": "ML_PROJ.ipynb",
   "provenance": []
  },
  "kernelspec": {
   "display_name": "Python 3",
   "language": "python",
   "name": "python3"
  },
  "language_info": {
   "codemirror_mode": {
    "name": "ipython",
    "version": 3
   },
   "file_extension": ".py",
   "mimetype": "text/x-python",
   "name": "python",
   "nbconvert_exporter": "python",
   "pygments_lexer": "ipython3",
   "version": "3.7.6"
  }
 },
 "nbformat": 4,
 "nbformat_minor": 1
}
